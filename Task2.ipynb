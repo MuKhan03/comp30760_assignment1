{
 "cells": [
  {
   "cell_type": "markdown",
   "id": "20b52e62",
   "metadata": {},
   "source": [
    "## COMP30760, Assignment 1, Task 2\n",
    "# by Muhammad Khan, 21338981\n",
    "In this assignment, I will be collecting and analysing historical data on cryptocurrencies dating back to 2011. The API I have chosen is the coinlayer one, https://coinlayer.com/. The API only has data from 2011 onwards. This notebook covers the Data Preparation and Analysis aspect of the assignment."
   ]
  },
  {
   "cell_type": "code",
   "execution_count": 222,
   "id": "7716e548",
   "metadata": {},
   "outputs": [],
   "source": [
    "import pandas as pd\n",
    "import matplotlib.pyplot as plt\n",
    "import csv"
   ]
  },
  {
   "cell_type": "markdown",
   "id": "4a53ec91",
   "metadata": {},
   "source": [
    "What I will do first is to load in the csv files and make sure that they are in the appropriate representation:"
   ]
  },
  {
   "cell_type": "code",
   "execution_count": 223,
   "id": "38e147ed",
   "metadata": {},
   "outputs": [
    {
     "name": "stdout",
     "output_type": "stream",
     "text": [
      "  Currency  success                        terms  \\\n",
      "0      BTC     True  https://coinlayer.com/terms   \n",
      "\n",
      "                         privacy   timestamp target  historical        date  \\\n",
      "0  https://coinlayer.com/privacy  1303257600    USD        True  2011-04-20   \n",
      "\n",
      "   rates  \n",
      "0   1.14  \n"
     ]
    }
   ],
   "source": [
    "#reading in csv files and displaying as a dataframe\n",
    "df1 = pd.read_csv('2011.csv')\n",
    "\n",
    "print(df1)"
   ]
  },
  {
   "cell_type": "code",
   "execution_count": 120,
   "id": "270ebe57",
   "metadata": {},
   "outputs": [
    {
     "name": "stdout",
     "output_type": "stream",
     "text": [
      "  Currency  success                        terms  \\\n",
      "0      BTC     True  https://coinlayer.com/terms   \n",
      "\n",
      "                         privacy   timestamp target  historical        date  \\\n",
      "0  https://coinlayer.com/privacy  1334880000    USD        True  2012-04-20   \n",
      "\n",
      "   rates  \n",
      "0   5.35  \n"
     ]
    }
   ],
   "source": [
    "df2 = pd.read_csv('2012.csv')\n",
    "\n",
    "print(df2)"
   ]
  },
  {
   "cell_type": "code",
   "execution_count": 129,
   "id": "451ed72d",
   "metadata": {},
   "outputs": [
    {
     "name": "stdout",
     "output_type": "stream",
     "text": [
      "  Currency  success                        terms  \\\n",
      "0      BTC     True  https://coinlayer.com/terms   \n",
      "\n",
      "                         privacy   timestamp target  historical        date  \\\n",
      "0  https://coinlayer.com/privacy  1366416000    USD        True  2013-04-20   \n",
      "\n",
      "    rates  \n",
      "0  126.62  \n"
     ]
    }
   ],
   "source": [
    "df3 = pd.read_csv('2013.csv')\n",
    "\n",
    "print(df3)"
   ]
  },
  {
   "cell_type": "code",
   "execution_count": 130,
   "id": "1d12cc58",
   "metadata": {},
   "outputs": [
    {
     "name": "stdout",
     "output_type": "stream",
     "text": [
      "  Currency  success                        terms  \\\n",
      "0      BTC     True  https://coinlayer.com/terms   \n",
      "1     DASH     True  https://coinlayer.com/terms   \n",
      "2     DOGE     True  https://coinlayer.com/terms   \n",
      "3      ETH     True  https://coinlayer.com/terms   \n",
      "4      LTC     True  https://coinlayer.com/terms   \n",
      "5    STEEM     True  https://coinlayer.com/terms   \n",
      "6      VEN     True  https://coinlayer.com/terms   \n",
      "7      XMR     True  https://coinlayer.com/terms   \n",
      "8      XRP     True  https://coinlayer.com/terms   \n",
      "9      XVG     True  https://coinlayer.com/terms   \n",
      "\n",
      "                         privacy   timestamp target  historical        date  \\\n",
      "0  https://coinlayer.com/privacy  1461110400    USD        True  2016-04-20   \n",
      "1  https://coinlayer.com/privacy  1461110400    USD        True  2016-04-20   \n",
      "2  https://coinlayer.com/privacy  1461110400    USD        True  2016-04-20   \n",
      "3  https://coinlayer.com/privacy  1461110400    USD        True  2016-04-20   \n",
      "4  https://coinlayer.com/privacy  1461110400    USD        True  2016-04-20   \n",
      "5  https://coinlayer.com/privacy  1461110400    USD        True  2016-04-20   \n",
      "6  https://coinlayer.com/privacy  1461110400    USD        True  2016-04-20   \n",
      "7  https://coinlayer.com/privacy  1461110400    USD        True  2016-04-20   \n",
      "8  https://coinlayer.com/privacy  1461110400    USD        True  2016-04-20   \n",
      "9  https://coinlayer.com/privacy  1461110400    USD        True  2016-04-20   \n",
      "\n",
      "        rates  \n",
      "0  441.160000  \n",
      "1    6.200000  \n",
      "2    0.000225  \n",
      "3    8.540000  \n",
      "4    3.270000  \n",
      "5    0.832500  \n",
      "6    0.090910  \n",
      "7    1.060000  \n",
      "8    0.006951  \n",
      "9    0.000120  \n"
     ]
    }
   ],
   "source": [
    "df4 = pd.read_csv('2016.csv')\n",
    "\n",
    "print(df4)"
   ]
  },
  {
   "cell_type": "code",
   "execution_count": 131,
   "id": "4d18f0ef",
   "metadata": {},
   "outputs": [
    {
     "name": "stdout",
     "output_type": "stream",
     "text": [
      "    Currency  success                        terms  \\\n",
      "0        611     True  https://coinlayer.com/terms   \n",
      "1        ABC     True  https://coinlayer.com/terms   \n",
      "2        ACP     True  https://coinlayer.com/terms   \n",
      "3        ACT     True  https://coinlayer.com/terms   \n",
      "4       ACT*     True  https://coinlayer.com/terms   \n",
      "..       ...      ...                          ...   \n",
      "381      ZEN     True  https://coinlayer.com/terms   \n",
      "382      ZIL     True  https://coinlayer.com/terms   \n",
      "383      ZNY     True  https://coinlayer.com/terms   \n",
      "384      ZRX     True  https://coinlayer.com/terms   \n",
      "385      ZSC     True  https://coinlayer.com/terms   \n",
      "\n",
      "                           privacy   timestamp target  historical        date  \\\n",
      "0    https://coinlayer.com/privacy  1524268743    USD        True  2018-04-20   \n",
      "1    https://coinlayer.com/privacy  1524268743    USD        True  2018-04-20   \n",
      "2    https://coinlayer.com/privacy  1524268743    USD        True  2018-04-20   \n",
      "3    https://coinlayer.com/privacy  1524268743    USD        True  2018-04-20   \n",
      "4    https://coinlayer.com/privacy  1524268743    USD        True  2018-04-20   \n",
      "..                             ...         ...    ...         ...         ...   \n",
      "381  https://coinlayer.com/privacy  1524268743    USD        True  2018-04-20   \n",
      "382  https://coinlayer.com/privacy  1524268743    USD        True  2018-04-20   \n",
      "383  https://coinlayer.com/privacy  1524268743    USD        True  2018-04-20   \n",
      "384  https://coinlayer.com/privacy  1524268743    USD        True  2018-04-20   \n",
      "385  https://coinlayer.com/privacy  1524268743    USD        True  2018-04-20   \n",
      "\n",
      "         rates  \n",
      "0     0.382624  \n",
      "1    70.000000  \n",
      "2     0.014931  \n",
      "3     0.279980  \n",
      "4     0.276836  \n",
      "..         ...  \n",
      "381  40.793602  \n",
      "382   0.081021  \n",
      "383   0.033993  \n",
      "384   0.992248  \n",
      "385   0.058538  \n",
      "\n",
      "[386 rows x 9 columns]\n"
     ]
    }
   ],
   "source": [
    "df5 = pd.read_csv('2018.csv')\n",
    "\n",
    "print(df5)"
   ]
  },
  {
   "cell_type": "code",
   "execution_count": 132,
   "id": "121f47dc",
   "metadata": {},
   "outputs": [
    {
     "name": "stdout",
     "output_type": "stream",
     "text": [
      "    Currency  success                        terms  \\\n",
      "0        611     True  https://coinlayer.com/terms   \n",
      "1        ABC     True  https://coinlayer.com/terms   \n",
      "2        ACP     True  https://coinlayer.com/terms   \n",
      "3        ACT     True  https://coinlayer.com/terms   \n",
      "4       ACT*     True  https://coinlayer.com/terms   \n",
      "..       ...      ...                          ...   \n",
      "382      ZEN     True  https://coinlayer.com/terms   \n",
      "383      ZIL     True  https://coinlayer.com/terms   \n",
      "384      ZNY     True  https://coinlayer.com/terms   \n",
      "385      ZRX     True  https://coinlayer.com/terms   \n",
      "386      ZSC     True  https://coinlayer.com/terms   \n",
      "\n",
      "                           privacy   timestamp target  historical        date  \\\n",
      "0    https://coinlayer.com/privacy  1618963147    USD        True  2021-04-20   \n",
      "1    https://coinlayer.com/privacy  1618963147    USD        True  2021-04-20   \n",
      "2    https://coinlayer.com/privacy  1618963147    USD        True  2021-04-20   \n",
      "3    https://coinlayer.com/privacy  1618963147    USD        True  2021-04-20   \n",
      "4    https://coinlayer.com/privacy  1618963147    USD        True  2021-04-20   \n",
      "..                             ...         ...    ...         ...         ...   \n",
      "382  https://coinlayer.com/privacy  1618963147    USD        True  2021-04-20   \n",
      "383  https://coinlayer.com/privacy  1618963147    USD        True  2021-04-20   \n",
      "384  https://coinlayer.com/privacy  1618963147    USD        True  2021-04-20   \n",
      "385  https://coinlayer.com/privacy  1618963147    USD        True  2021-04-20   \n",
      "386  https://coinlayer.com/privacy  1618963147    USD        True  2021-04-20   \n",
      "\n",
      "          rates  \n",
      "0      0.389165  \n",
      "1     59.990000  \n",
      "2      0.014931  \n",
      "3      0.024184  \n",
      "4      0.017178  \n",
      "..          ...  \n",
      "382  117.783645  \n",
      "383    0.192362  \n",
      "384    0.020000  \n",
      "385    1.711158  \n",
      "386    0.000791  \n",
      "\n",
      "[387 rows x 9 columns]\n"
     ]
    }
   ],
   "source": [
    "df6 = pd.read_csv('2021.csv')\n",
    "\n",
    "print(df6)"
   ]
  },
  {
   "cell_type": "code",
   "execution_count": 133,
   "id": "32f78f4b",
   "metadata": {},
   "outputs": [
    {
     "name": "stdout",
     "output_type": "stream",
     "text": [
      "    Currency  success                        terms  \\\n",
      "0        611     True  https://coinlayer.com/terms   \n",
      "1        ABC     True  https://coinlayer.com/terms   \n",
      "2        ACP     True  https://coinlayer.com/terms   \n",
      "3        ACT     True  https://coinlayer.com/terms   \n",
      "4       ACT*     True  https://coinlayer.com/terms   \n",
      "..       ...      ...                          ...   \n",
      "382      ZEN     True  https://coinlayer.com/terms   \n",
      "383      ZIL     True  https://coinlayer.com/terms   \n",
      "384      ZNY     True  https://coinlayer.com/terms   \n",
      "385      ZRX     True  https://coinlayer.com/terms   \n",
      "386      ZSC     True  https://coinlayer.com/terms   \n",
      "\n",
      "                           privacy   timestamp target  historical        date  \\\n",
      "0    https://coinlayer.com/privacy  1682035146    USD        True  2023-04-20   \n",
      "1    https://coinlayer.com/privacy  1682035146    USD        True  2023-04-20   \n",
      "2    https://coinlayer.com/privacy  1682035146    USD        True  2023-04-20   \n",
      "3    https://coinlayer.com/privacy  1682035146    USD        True  2023-04-20   \n",
      "4    https://coinlayer.com/privacy  1682035146    USD        True  2023-04-20   \n",
      "..                             ...         ...    ...         ...         ...   \n",
      "382  https://coinlayer.com/privacy  1682035146    USD        True  2023-04-20   \n",
      "383  https://coinlayer.com/privacy  1682035146    USD        True  2023-04-20   \n",
      "384  https://coinlayer.com/privacy  1682035146    USD        True  2023-04-20   \n",
      "385  https://coinlayer.com/privacy  1682035146    USD        True  2023-04-20   \n",
      "386  https://coinlayer.com/privacy  1682035146    USD        True  2023-04-20   \n",
      "\n",
      "         rates  \n",
      "0     0.389165  \n",
      "1    59.990000  \n",
      "2     0.014931  \n",
      "3     0.001070  \n",
      "4     0.017178  \n",
      "..         ...  \n",
      "382   9.877605  \n",
      "383   0.030230  \n",
      "384   0.020000  \n",
      "385   0.266965  \n",
      "386   0.000066  \n",
      "\n",
      "[387 rows x 9 columns]\n"
     ]
    }
   ],
   "source": [
    "df7 = pd.read_csv('2023.csv')\n",
    "\n",
    "print(df7)"
   ]
  },
  {
   "cell_type": "markdown",
   "id": "b1582db1",
   "metadata": {},
   "source": [
    "All the files: 2011, 2012, 2013, 2016, 2018, 2021, 2023, are in their correct CSV format and are readable. Now I can go ahead with the data cleaning aspect of the task, before I can finally analyse the data."
   ]
  },
  {
   "cell_type": "markdown",
   "id": "7e21a274",
   "metadata": {},
   "source": [
    "\n",
    "\n",
    "\n",
    "\n",
    "\n",
    "\n",
    "\n",
    "\n",
    "Now we will be dropping columns in the csv files to prepare the data for analysis. Dropping columns will ensure we have the relevant data needed for analysis. I will be making a new csv file with the naming convention of 'yearClean' that has the dropped columns for analysis:"
   ]
  },
  {
   "cell_type": "code",
   "execution_count": 124,
   "id": "37ad4a29",
   "metadata": {},
   "outputs": [],
   "source": [
    "#drop columns\n",
    "d1 = df1.loc[:, ['Currency', 'target','date','rates']]\n",
    "\n",
    "#new data into csv\n",
    "d1.to_csv('2011Clean.csv')  "
   ]
  },
  {
   "cell_type": "code",
   "execution_count": 125,
   "id": "26b7e4b6",
   "metadata": {},
   "outputs": [
    {
     "data": {
      "text/html": [
       "<div>\n",
       "<style scoped>\n",
       "    .dataframe tbody tr th:only-of-type {\n",
       "        vertical-align: middle;\n",
       "    }\n",
       "\n",
       "    .dataframe tbody tr th {\n",
       "        vertical-align: top;\n",
       "    }\n",
       "\n",
       "    .dataframe thead th {\n",
       "        text-align: right;\n",
       "    }\n",
       "</style>\n",
       "<table border=\"1\" class=\"dataframe\">\n",
       "  <thead>\n",
       "    <tr style=\"text-align: right;\">\n",
       "      <th></th>\n",
       "      <th>Currency</th>\n",
       "      <th>target</th>\n",
       "      <th>date</th>\n",
       "      <th>rates</th>\n",
       "    </tr>\n",
       "  </thead>\n",
       "  <tbody>\n",
       "    <tr>\n",
       "      <th>0</th>\n",
       "      <td>BTC</td>\n",
       "      <td>USD</td>\n",
       "      <td>2011-04-20</td>\n",
       "      <td>1.14</td>\n",
       "    </tr>\n",
       "  </tbody>\n",
       "</table>\n",
       "</div>"
      ],
      "text/plain": [
       "  Currency target        date  rates\n",
       "0      BTC    USD  2011-04-20   1.14"
      ]
     },
     "execution_count": 125,
     "metadata": {},
     "output_type": "execute_result"
    }
   ],
   "source": [
    "d1"
   ]
  },
  {
   "cell_type": "code",
   "execution_count": 139,
   "id": "f9234170",
   "metadata": {},
   "outputs": [],
   "source": [
    "d2 = df2.loc[:, ['Currency', 'target','date','rates']]\n",
    "\n",
    "d2.to_csv('2012Clean.csv')"
   ]
  },
  {
   "cell_type": "code",
   "execution_count": 138,
   "id": "1bbc7ece",
   "metadata": {},
   "outputs": [
    {
     "data": {
      "text/html": [
       "<div>\n",
       "<style scoped>\n",
       "    .dataframe tbody tr th:only-of-type {\n",
       "        vertical-align: middle;\n",
       "    }\n",
       "\n",
       "    .dataframe tbody tr th {\n",
       "        vertical-align: top;\n",
       "    }\n",
       "\n",
       "    .dataframe thead th {\n",
       "        text-align: right;\n",
       "    }\n",
       "</style>\n",
       "<table border=\"1\" class=\"dataframe\">\n",
       "  <thead>\n",
       "    <tr style=\"text-align: right;\">\n",
       "      <th></th>\n",
       "      <th>Currency</th>\n",
       "      <th>target</th>\n",
       "      <th>date</th>\n",
       "      <th>rates</th>\n",
       "    </tr>\n",
       "  </thead>\n",
       "  <tbody>\n",
       "    <tr>\n",
       "      <th>0</th>\n",
       "      <td>BTC</td>\n",
       "      <td>USD</td>\n",
       "      <td>2012-04-20</td>\n",
       "      <td>5.35</td>\n",
       "    </tr>\n",
       "  </tbody>\n",
       "</table>\n",
       "</div>"
      ],
      "text/plain": [
       "  Currency target        date  rates\n",
       "0      BTC    USD  2012-04-20   5.35"
      ]
     },
     "execution_count": 138,
     "metadata": {},
     "output_type": "execute_result"
    }
   ],
   "source": [
    "d2"
   ]
  },
  {
   "cell_type": "code",
   "execution_count": 140,
   "id": "ad8195ac",
   "metadata": {},
   "outputs": [],
   "source": [
    "d3 = df3.loc[:, ['Currency', 'target','date','rates']]\n",
    "\n",
    "d3.to_csv('2013Clean.csv')"
   ]
  },
  {
   "cell_type": "code",
   "execution_count": 141,
   "id": "c728d44f",
   "metadata": {},
   "outputs": [],
   "source": [
    "d4 = df4.loc[:, ['Currency', 'target','date','rates']]\n",
    "\n",
    "d4.to_csv('2016Clean.csv')"
   ]
  },
  {
   "cell_type": "code",
   "execution_count": 142,
   "id": "b40a9729",
   "metadata": {},
   "outputs": [],
   "source": [
    "d5 = df5.loc[:, ['Currency', 'target','date','rates']]\n",
    "\n",
    "d5.to_csv('2018Clean.csv')"
   ]
  },
  {
   "cell_type": "code",
   "execution_count": 143,
   "id": "32b2519b",
   "metadata": {},
   "outputs": [],
   "source": [
    "d6 = df6.loc[:, ['Currency', 'target','date','rates']]\n",
    "\n",
    "d6.to_csv('2021Clean.csv')"
   ]
  },
  {
   "cell_type": "code",
   "execution_count": 144,
   "id": "fe333159",
   "metadata": {},
   "outputs": [],
   "source": [
    "d7 = df7.loc[:, ['Currency', 'target','date','rates']]\n",
    "\n",
    "d7.to_csv('2023Clean.csv')\n",
    "\n",
    "\n"
   ]
  },
  {
   "cell_type": "markdown",
   "id": "64072677",
   "metadata": {},
   "source": [
    "Now we will check for missing values in each of the CSV files:"
   ]
  },
  {
   "cell_type": "code",
   "execution_count": 145,
   "id": "49285f5f",
   "metadata": {},
   "outputs": [
    {
     "name": "stdout",
     "output_type": "stream",
     "text": [
      "Missing Values in DataFrame:\n",
      "   Unnamed: 0  Currency  target   date  rates\n",
      "0       False     False   False  False  False\n",
      "\n",
      "Missing Values Count in Each Column:\n",
      "Unnamed: 0    0\n",
      "Currency      0\n",
      "target        0\n",
      "date          0\n",
      "rates         0\n",
      "dtype: int64\n",
      "\n",
      "Total Missing Values in DataFrame: 0\n"
     ]
    }
   ],
   "source": [
    "#missing values in 2011 data\n",
    "dA = pd.read_csv('2011Clean.csv')\n",
    "\n",
    "#get missing values\n",
    "missing_values = dA.isnull()\n",
    "\n",
    "#get missing values in each column\n",
    "missing_values_count = dA.isnull().sum()\n",
    "\n",
    "#get missing values in entire dataframe\n",
    "total_missing_values = missing_values.sum().sum()\n",
    "\n",
    "#Print results\n",
    "print(\"Missing Values in DataFrame:\")\n",
    "print(missing_values)\n",
    "\n",
    "print(\"\\nMissing Values Count in Each Column:\")\n",
    "print(missing_values_count)\n",
    "\n",
    "print(\"\\nTotal Missing Values in DataFrame:\", total_missing_values)"
   ]
  },
  {
   "cell_type": "code",
   "execution_count": 146,
   "id": "0000c4ef",
   "metadata": {},
   "outputs": [
    {
     "name": "stdout",
     "output_type": "stream",
     "text": [
      "Missing Values in DataFrame:\n",
      "   Unnamed: 0  Currency  target   date  rates\n",
      "0       False     False   False  False  False\n",
      "\n",
      "Missing Values Count in Each Column:\n",
      "Unnamed: 0    0\n",
      "Currency      0\n",
      "target        0\n",
      "date          0\n",
      "rates         0\n",
      "dtype: int64\n",
      "\n",
      "Total Missing Values in DataFrame: 0\n"
     ]
    }
   ],
   "source": [
    "#missing values in 2012 data\n",
    "dB = pd.read_csv('2012Clean.csv')\n",
    "\n",
    "#get missing values\n",
    "missing_values = dB.isnull()\n",
    "\n",
    "#get missing values in each column\n",
    "missing_values_count = dB.isnull().sum()\n",
    "\n",
    "#get missing values in entire dataframe\n",
    "total_missing_values = missing_values.sum().sum()\n",
    "\n",
    "#Print results\n",
    "print(\"Missing Values in DataFrame:\")\n",
    "print(missing_values)\n",
    "\n",
    "print(\"\\nMissing Values Count in Each Column:\")\n",
    "print(missing_values_count)\n",
    "\n",
    "print(\"\\nTotal Missing Values in DataFrame:\", total_missing_values)"
   ]
  },
  {
   "cell_type": "code",
   "execution_count": 147,
   "id": "4b15dc54",
   "metadata": {},
   "outputs": [
    {
     "name": "stdout",
     "output_type": "stream",
     "text": [
      "Missing Values in DataFrame:\n",
      "   Unnamed: 0  Currency  target   date  rates\n",
      "0       False     False   False  False  False\n",
      "\n",
      "Missing Values Count in Each Column:\n",
      "Unnamed: 0    0\n",
      "Currency      0\n",
      "target        0\n",
      "date          0\n",
      "rates         0\n",
      "dtype: int64\n",
      "\n",
      "Total Missing Values in DataFrame: 0\n"
     ]
    }
   ],
   "source": [
    "#missing values in 2013 data\n",
    "dC = pd.read_csv('2013Clean.csv')\n",
    "\n",
    "#get missing values\n",
    "missing_values = dC.isnull()\n",
    "\n",
    "#get missing values in each column\n",
    "missing_values_count = dC.isnull().sum()\n",
    "\n",
    "#get missing values in entire dataframe\n",
    "total_missing_values = missing_values.sum().sum()\n",
    "\n",
    "#Print results\n",
    "print(\"Missing Values in DataFrame:\")\n",
    "print(missing_values)\n",
    "\n",
    "print(\"\\nMissing Values Count in Each Column:\")\n",
    "print(missing_values_count)\n",
    "\n",
    "print(\"\\nTotal Missing Values in DataFrame:\", total_missing_values)"
   ]
  },
  {
   "cell_type": "code",
   "execution_count": 151,
   "id": "218ea522",
   "metadata": {},
   "outputs": [
    {
     "name": "stdout",
     "output_type": "stream",
     "text": [
      "Missing Values in DataFrame:\n",
      "   Unnamed: 0  Currency  target   date  rates\n",
      "0       False     False   False  False  False\n",
      "1       False     False   False  False  False\n",
      "2       False     False   False  False  False\n",
      "3       False     False   False  False  False\n",
      "4       False     False   False  False  False\n",
      "5       False     False   False  False  False\n",
      "6       False     False   False  False  False\n",
      "7       False     False   False  False  False\n",
      "8       False     False   False  False  False\n",
      "9       False     False   False  False  False\n",
      "\n",
      "Missing Values Count in Each Column:\n",
      "Unnamed: 0    0\n",
      "Currency      0\n",
      "target        0\n",
      "date          0\n",
      "rates         0\n",
      "dtype: int64\n",
      "\n",
      "Total Missing Values in DataFrame: 0\n"
     ]
    }
   ],
   "source": [
    "#missing values in 2016 data\n",
    "dD = pd.read_csv('2016Clean.csv')\n",
    "\n",
    "#get missing values\n",
    "missing_values = dD.isnull()\n",
    "\n",
    "#get missing values in each column\n",
    "missing_values_count = dD.isnull().sum()\n",
    "\n",
    "#get missing values in entire dataframe\n",
    "total_missing_values = missing_values.sum().sum()\n",
    "\n",
    "#Print results\n",
    "print(\"Missing Values in DataFrame:\")\n",
    "print(missing_values)\n",
    "\n",
    "print(\"\\nMissing Values Count in Each Column:\")\n",
    "print(missing_values_count)\n",
    "\n",
    "print(\"\\nTotal Missing Values in DataFrame:\", total_missing_values)"
   ]
  },
  {
   "cell_type": "code",
   "execution_count": 152,
   "id": "581bf46f",
   "metadata": {},
   "outputs": [
    {
     "name": "stdout",
     "output_type": "stream",
     "text": [
      "Missing Values in DataFrame:\n",
      "     Unnamed: 0  Currency  target   date  rates\n",
      "0         False     False   False  False  False\n",
      "1         False     False   False  False  False\n",
      "2         False     False   False  False  False\n",
      "3         False     False   False  False  False\n",
      "4         False     False   False  False  False\n",
      "..          ...       ...     ...    ...    ...\n",
      "381       False     False   False  False  False\n",
      "382       False     False   False  False  False\n",
      "383       False     False   False  False  False\n",
      "384       False     False   False  False  False\n",
      "385       False     False   False  False  False\n",
      "\n",
      "[386 rows x 5 columns]\n",
      "\n",
      "Missing Values Count in Each Column:\n",
      "Unnamed: 0    0\n",
      "Currency      0\n",
      "target        0\n",
      "date          0\n",
      "rates         0\n",
      "dtype: int64\n",
      "\n",
      "Total Missing Values in DataFrame: 0\n"
     ]
    }
   ],
   "source": [
    "#missing values in 2018 data\n",
    "dE = pd.read_csv('2018Clean.csv')\n",
    "\n",
    "#get missing values\n",
    "missing_values = dE.isnull()\n",
    "\n",
    "#get missing values in each column\n",
    "missing_values_count = dE.isnull().sum()\n",
    "\n",
    "#get missing values in entire dataframe\n",
    "total_missing_values = missing_values.sum().sum()\n",
    "\n",
    "#Print results\n",
    "print(\"Missing Values in DataFrame:\")\n",
    "print(missing_values)\n",
    "\n",
    "print(\"\\nMissing Values Count in Each Column:\")\n",
    "print(missing_values_count)\n",
    "\n",
    "print(\"\\nTotal Missing Values in DataFrame:\", total_missing_values)"
   ]
  },
  {
   "cell_type": "code",
   "execution_count": 154,
   "id": "e4061ade",
   "metadata": {},
   "outputs": [
    {
     "name": "stdout",
     "output_type": "stream",
     "text": [
      "Missing Values in DataFrame:\n",
      "     Unnamed: 0  Currency  target   date  rates\n",
      "0         False     False   False  False  False\n",
      "1         False     False   False  False  False\n",
      "2         False     False   False  False  False\n",
      "3         False     False   False  False  False\n",
      "4         False     False   False  False  False\n",
      "..          ...       ...     ...    ...    ...\n",
      "382       False     False   False  False  False\n",
      "383       False     False   False  False  False\n",
      "384       False     False   False  False  False\n",
      "385       False     False   False  False  False\n",
      "386       False     False   False  False  False\n",
      "\n",
      "[387 rows x 5 columns]\n",
      "\n",
      "Missing Values Count in Each Column:\n",
      "Unnamed: 0    0\n",
      "Currency      0\n",
      "target        0\n",
      "date          0\n",
      "rates         0\n",
      "dtype: int64\n",
      "\n",
      "Total Missing Values in DataFrame: 0\n"
     ]
    }
   ],
   "source": [
    "#missing values in 2021 data\n",
    "dF = pd.read_csv('2021Clean.csv')\n",
    "\n",
    "#get missing values\n",
    "missing_values = dF.isnull()\n",
    "\n",
    "#get missing values in each column\n",
    "missing_values_count = dF.isnull().sum()\n",
    "\n",
    "#get missing values in entire dataframe\n",
    "total_missing_values = missing_values.sum().sum()\n",
    "\n",
    "#Print results\n",
    "print(\"Missing Values in DataFrame:\")\n",
    "print(missing_values)\n",
    "\n",
    "print(\"\\nMissing Values Count in Each Column:\")\n",
    "print(missing_values_count)\n",
    "\n",
    "print(\"\\nTotal Missing Values in DataFrame:\", total_missing_values)"
   ]
  },
  {
   "cell_type": "code",
   "execution_count": 155,
   "id": "421230a7",
   "metadata": {},
   "outputs": [
    {
     "name": "stdout",
     "output_type": "stream",
     "text": [
      "Missing Values in DataFrame:\n",
      "     Unnamed: 0  Currency  target   date  rates\n",
      "0         False     False   False  False  False\n",
      "1         False     False   False  False  False\n",
      "2         False     False   False  False  False\n",
      "3         False     False   False  False  False\n",
      "4         False     False   False  False  False\n",
      "..          ...       ...     ...    ...    ...\n",
      "382       False     False   False  False  False\n",
      "383       False     False   False  False  False\n",
      "384       False     False   False  False  False\n",
      "385       False     False   False  False  False\n",
      "386       False     False   False  False  False\n",
      "\n",
      "[387 rows x 5 columns]\n",
      "\n",
      "Missing Values Count in Each Column:\n",
      "Unnamed: 0    0\n",
      "Currency      0\n",
      "target        0\n",
      "date          0\n",
      "rates         0\n",
      "dtype: int64\n",
      "\n",
      "Total Missing Values in DataFrame: 0\n"
     ]
    }
   ],
   "source": [
    "#missing values in 2023 data\n",
    "dG = pd.read_csv('2023Clean.csv')\n",
    "\n",
    "#get missing values\n",
    "missing_values = dG.isnull()\n",
    "\n",
    "#get missing values in each column\n",
    "missing_values_count = dG.isnull().sum()\n",
    "\n",
    "#get missing values in entire dataframe\n",
    "total_missing_values = missing_values.sum().sum()\n",
    "\n",
    "#Print results\n",
    "print(\"Missing Values in DataFrame:\")\n",
    "print(missing_values)\n",
    "\n",
    "print(\"\\nMissing Values Count in Each Column:\")\n",
    "print(missing_values_count)\n",
    "\n",
    "print(\"\\nTotal Missing Values in DataFrame:\", total_missing_values)"
   ]
  },
  {
   "cell_type": "markdown",
   "id": "b4c034d8",
   "metadata": {},
   "source": [
    "After investigating for any missing values in our requested data, I found there to be no missing values.The data provided by the API appears to be well-maintained and doesn't contain any obvious gaps or errors. This can be a positive sign, indicating that the data source is reliable and that the data has been properly validated before being made available\n",
    "\n",
    "\n",
    "\n",
    "\n",
    "Now, let's check for any duplicate values:"
   ]
  },
  {
   "cell_type": "code",
   "execution_count": 160,
   "id": "2c2359e9",
   "metadata": {},
   "outputs": [
    {
     "name": "stdout",
     "output_type": "stream",
     "text": [
      "Duplicate Values in Currency column: \n",
      "0    False\n",
      "Name: Currency, dtype: bool\n",
      "\n",
      "Duplicate Values in target Column: \n",
      "0    False\n",
      "Name: target, dtype: bool\n",
      "\n",
      "Duplicate Values in date column: \n",
      "0    False\n",
      "Name: date, dtype: bool\n",
      "\n",
      "Duplicate Values in rates column: \n",
      "0    False\n",
      "Name: rates, dtype: bool\n"
     ]
    }
   ],
   "source": [
    "#2011\n",
    "#column where we want to check for duplicate values\n",
    "column1 = 'Currency' \n",
    "column2 = 'target'\n",
    "column3 = 'date'\n",
    "column4 = 'rates'\n",
    "\n",
    "#duplicate values in specified column:\n",
    "duplicate_values1 = d1[column1].duplicated()\n",
    "duplicate_values2 = d1[column2].duplicated()\n",
    "duplicate_values3 = d1[column3].duplicated()\n",
    "duplicate_values4 = d1[column4].duplicated()\n",
    "\n",
    "\n",
    "# Display the duplicate values in the specified column\n",
    "print(\"Duplicate Values in Currency column: \")\n",
    "print(duplicate_values1)\n",
    "\n",
    "print(\"\\nDuplicate Values in target Column: \")\n",
    "print(duplicate_values2)\n",
    "\n",
    "print(\"\\nDuplicate Values in date column: \")\n",
    "print(duplicate_values3)\n",
    "\n",
    "print(\"\\nDuplicate Values in rates column: \")\n",
    "print(duplicate_values4)\n"
   ]
  },
  {
   "cell_type": "code",
   "execution_count": 161,
   "id": "f43458cd",
   "metadata": {},
   "outputs": [
    {
     "name": "stdout",
     "output_type": "stream",
     "text": [
      "Duplicate Values in Currency column: \n",
      "0    False\n",
      "Name: Currency, dtype: bool\n",
      "\n",
      "Duplicate Values in target Column: \n",
      "0    False\n",
      "Name: target, dtype: bool\n",
      "\n",
      "Duplicate Values in date column: \n",
      "0    False\n",
      "Name: date, dtype: bool\n",
      "\n",
      "Duplicate Values in rates column: \n",
      "0    False\n",
      "Name: rates, dtype: bool\n"
     ]
    }
   ],
   "source": [
    "#2012\n",
    "#column where we want to check for duplicate values\n",
    "column1 = 'Currency' \n",
    "column2 = 'target'\n",
    "column3 = 'date'\n",
    "column4 = 'rates'\n",
    "\n",
    "#duplicate values in specified column:\n",
    "duplicate_values1 = d2[column1].duplicated()\n",
    "duplicate_values2 = d2[column2].duplicated()\n",
    "duplicate_values3 = d2[column3].duplicated()\n",
    "duplicate_values4 = d2[column4].duplicated()\n",
    "\n",
    "\n",
    "# Display the duplicate values in the specified column\n",
    "print(\"Duplicate Values in Currency column: \")\n",
    "print(duplicate_values1)\n",
    "\n",
    "print(\"\\nDuplicate Values in target Column: \")\n",
    "print(duplicate_values2)\n",
    "\n",
    "print(\"\\nDuplicate Values in date column: \")\n",
    "print(duplicate_values3)\n",
    "\n",
    "print(\"\\nDuplicate Values in rates column: \")\n",
    "print(duplicate_values4)\n"
   ]
  },
  {
   "cell_type": "code",
   "execution_count": 162,
   "id": "296a583e",
   "metadata": {},
   "outputs": [
    {
     "name": "stdout",
     "output_type": "stream",
     "text": [
      "Duplicate Values in Currency column: \n",
      "0    False\n",
      "Name: Currency, dtype: bool\n",
      "\n",
      "Duplicate Values in target Column: \n",
      "0    False\n",
      "Name: target, dtype: bool\n",
      "\n",
      "Duplicate Values in date column: \n",
      "0    False\n",
      "Name: date, dtype: bool\n",
      "\n",
      "Duplicate Values in rates column: \n",
      "0    False\n",
      "Name: rates, dtype: bool\n"
     ]
    }
   ],
   "source": [
    "#2013\n",
    "#column where we want to check for duplicate values\n",
    "column1 = 'Currency' \n",
    "column2 = 'target'\n",
    "column3 = 'date'\n",
    "column4 = 'rates'\n",
    "\n",
    "#duplicate values in specified column:\n",
    "duplicate_values1 = d3[column1].duplicated()\n",
    "duplicate_values2 = d3[column2].duplicated()\n",
    "duplicate_values3 = d3[column3].duplicated()\n",
    "duplicate_values4 = d3[column4].duplicated()\n",
    "\n",
    "\n",
    "# Display the duplicate values in the specified column\n",
    "print(\"Duplicate Values in Currency column: \")\n",
    "print(duplicate_values1)\n",
    "\n",
    "print(\"\\nDuplicate Values in target Column: \")\n",
    "print(duplicate_values2)\n",
    "\n",
    "print(\"\\nDuplicate Values in date column: \")\n",
    "print(duplicate_values3)\n",
    "\n",
    "print(\"\\nDuplicate Values in rates column: \")\n",
    "print(duplicate_values4)\n"
   ]
  },
  {
   "cell_type": "code",
   "execution_count": 163,
   "id": "55bfa864",
   "metadata": {},
   "outputs": [
    {
     "name": "stdout",
     "output_type": "stream",
     "text": [
      "Duplicate Values in Currency column: \n",
      "0    False\n",
      "1    False\n",
      "2    False\n",
      "3    False\n",
      "4    False\n",
      "5    False\n",
      "6    False\n",
      "7    False\n",
      "8    False\n",
      "9    False\n",
      "Name: Currency, dtype: bool\n",
      "\n",
      "Duplicate Values in target Column: \n",
      "0    False\n",
      "1     True\n",
      "2     True\n",
      "3     True\n",
      "4     True\n",
      "5     True\n",
      "6     True\n",
      "7     True\n",
      "8     True\n",
      "9     True\n",
      "Name: target, dtype: bool\n",
      "\n",
      "Duplicate Values in date column: \n",
      "0    False\n",
      "1     True\n",
      "2     True\n",
      "3     True\n",
      "4     True\n",
      "5     True\n",
      "6     True\n",
      "7     True\n",
      "8     True\n",
      "9     True\n",
      "Name: date, dtype: bool\n",
      "\n",
      "Duplicate Values in rates column: \n",
      "0    False\n",
      "1    False\n",
      "2    False\n",
      "3    False\n",
      "4    False\n",
      "5    False\n",
      "6    False\n",
      "7    False\n",
      "8    False\n",
      "9    False\n",
      "Name: rates, dtype: bool\n"
     ]
    }
   ],
   "source": [
    "#2016\n",
    "#column where we want to check for duplicate values\n",
    "column1 = 'Currency' \n",
    "column2 = 'target'\n",
    "column3 = 'date'\n",
    "column4 = 'rates'\n",
    "\n",
    "#duplicate values in specified column:\n",
    "duplicate_values1 = d4[column1].duplicated()\n",
    "duplicate_values2 = d4[column2].duplicated()\n",
    "duplicate_values3 = d4[column3].duplicated()\n",
    "duplicate_values4 = d4[column4].duplicated()\n",
    "\n",
    "\n",
    "# Display the duplicate values in the specified column\n",
    "print(\"Duplicate Values in Currency column: \")\n",
    "print(duplicate_values1)\n",
    "\n",
    "print(\"\\nDuplicate Values in target Column: \")\n",
    "print(duplicate_values2)\n",
    "\n",
    "print(\"\\nDuplicate Values in date column: \")\n",
    "print(duplicate_values3)\n",
    "\n",
    "print(\"\\nDuplicate Values in rates column: \")\n",
    "print(duplicate_values4)\n"
   ]
  },
  {
   "cell_type": "markdown",
   "id": "b26622b9",
   "metadata": {},
   "source": [
    "Here we see that the target and date columns have alot of duplicate values. However, upon further investigation, we can see that the target means the real life(not cryptocurrency) currency, which is US Dollars. We can also see that the date for the data has to be the same, as it is collected on a specific date in the year. In this case it was the 20th of April, 2016"
   ]
  },
  {
   "cell_type": "code",
   "execution_count": 164,
   "id": "1f841ef8",
   "metadata": {},
   "outputs": [
    {
     "name": "stdout",
     "output_type": "stream",
     "text": [
      "Duplicate Values in Currency column: \n",
      "0      False\n",
      "1      False\n",
      "2      False\n",
      "3      False\n",
      "4      False\n",
      "       ...  \n",
      "381    False\n",
      "382    False\n",
      "383    False\n",
      "384    False\n",
      "385    False\n",
      "Name: Currency, Length: 386, dtype: bool\n",
      "\n",
      "Duplicate Values in target Column: \n",
      "0      False\n",
      "1       True\n",
      "2       True\n",
      "3       True\n",
      "4       True\n",
      "       ...  \n",
      "381     True\n",
      "382     True\n",
      "383     True\n",
      "384     True\n",
      "385     True\n",
      "Name: target, Length: 386, dtype: bool\n",
      "\n",
      "Duplicate Values in date column: \n",
      "0      False\n",
      "1       True\n",
      "2       True\n",
      "3       True\n",
      "4       True\n",
      "       ...  \n",
      "381     True\n",
      "382     True\n",
      "383     True\n",
      "384     True\n",
      "385     True\n",
      "Name: date, Length: 386, dtype: bool\n",
      "\n",
      "Duplicate Values in rates column: \n",
      "0      False\n",
      "1      False\n",
      "2      False\n",
      "3      False\n",
      "4      False\n",
      "       ...  \n",
      "381    False\n",
      "382    False\n",
      "383    False\n",
      "384    False\n",
      "385    False\n",
      "Name: rates, Length: 386, dtype: bool\n"
     ]
    }
   ],
   "source": [
    "#2018\n",
    "#column where we want to check for duplicate values\n",
    "column1 = 'Currency' \n",
    "column2 = 'target'\n",
    "column3 = 'date'\n",
    "column4 = 'rates'\n",
    "\n",
    "#duplicate values in specified column:\n",
    "duplicate_values1 = d5[column1].duplicated()\n",
    "duplicate_values2 = d5[column2].duplicated()\n",
    "duplicate_values3 = d5[column3].duplicated()\n",
    "duplicate_values4 = d5[column4].duplicated()\n",
    "\n",
    "\n",
    "# Display the duplicate values in the specified column\n",
    "print(\"Duplicate Values in Currency column: \")\n",
    "print(duplicate_values1)\n",
    "\n",
    "print(\"\\nDuplicate Values in target Column: \")\n",
    "print(duplicate_values2)\n",
    "\n",
    "print(\"\\nDuplicate Values in date column: \")\n",
    "print(duplicate_values3)\n",
    "\n",
    "print(\"\\nDuplicate Values in rates column: \")\n",
    "print(duplicate_values4)\n"
   ]
  },
  {
   "cell_type": "markdown",
   "id": "23bc68b3",
   "metadata": {},
   "source": [
    "We give the same reasoning for these duplicate values as we did above with 2016."
   ]
  },
  {
   "cell_type": "code",
   "execution_count": 165,
   "id": "c164e932",
   "metadata": {},
   "outputs": [
    {
     "name": "stdout",
     "output_type": "stream",
     "text": [
      "Duplicate Values in Currency column: \n",
      "0      False\n",
      "1      False\n",
      "2      False\n",
      "3      False\n",
      "4      False\n",
      "       ...  \n",
      "382    False\n",
      "383    False\n",
      "384    False\n",
      "385    False\n",
      "386    False\n",
      "Name: Currency, Length: 387, dtype: bool\n",
      "\n",
      "Duplicate Values in target Column: \n",
      "0      False\n",
      "1       True\n",
      "2       True\n",
      "3       True\n",
      "4       True\n",
      "       ...  \n",
      "382     True\n",
      "383     True\n",
      "384     True\n",
      "385     True\n",
      "386     True\n",
      "Name: target, Length: 387, dtype: bool\n",
      "\n",
      "Duplicate Values in date column: \n",
      "0      False\n",
      "1       True\n",
      "2       True\n",
      "3       True\n",
      "4       True\n",
      "       ...  \n",
      "382     True\n",
      "383     True\n",
      "384     True\n",
      "385     True\n",
      "386     True\n",
      "Name: date, Length: 387, dtype: bool\n",
      "\n",
      "Duplicate Values in rates column: \n",
      "0      False\n",
      "1      False\n",
      "2      False\n",
      "3      False\n",
      "4      False\n",
      "       ...  \n",
      "382    False\n",
      "383    False\n",
      "384     True\n",
      "385    False\n",
      "386    False\n",
      "Name: rates, Length: 387, dtype: bool\n"
     ]
    }
   ],
   "source": [
    "#2021\n",
    "#column where we want to check for duplicate values\n",
    "column1 = 'Currency' \n",
    "column2 = 'target'\n",
    "column3 = 'date'\n",
    "column4 = 'rates'\n",
    "\n",
    "#duplicate values in specified column:\n",
    "duplicate_values1 = d6[column1].duplicated()\n",
    "duplicate_values2 = d6[column2].duplicated()\n",
    "duplicate_values3 = d6[column3].duplicated()\n",
    "duplicate_values4 = d6[column4].duplicated()\n",
    "\n",
    "\n",
    "# Display the duplicate values in the specified column\n",
    "print(\"Duplicate Values in Currency column: \")\n",
    "print(duplicate_values1)\n",
    "\n",
    "print(\"\\nDuplicate Values in target Column: \")\n",
    "print(duplicate_values2)\n",
    "\n",
    "print(\"\\nDuplicate Values in date column: \")\n",
    "print(duplicate_values3)\n",
    "\n",
    "print(\"\\nDuplicate Values in rates column: \")\n",
    "print(duplicate_values4)\n"
   ]
  },
  {
   "cell_type": "markdown",
   "id": "0ff12bc4",
   "metadata": {},
   "source": [
    "Same reasoning again for the duplicates."
   ]
  },
  {
   "cell_type": "code",
   "execution_count": 166,
   "id": "cd69df24",
   "metadata": {},
   "outputs": [
    {
     "name": "stdout",
     "output_type": "stream",
     "text": [
      "Duplicate Values in Currency column: \n",
      "0      False\n",
      "1      False\n",
      "2      False\n",
      "3      False\n",
      "4      False\n",
      "       ...  \n",
      "382    False\n",
      "383    False\n",
      "384    False\n",
      "385    False\n",
      "386    False\n",
      "Name: Currency, Length: 387, dtype: bool\n",
      "\n",
      "Duplicate Values in target Column: \n",
      "0      False\n",
      "1       True\n",
      "2       True\n",
      "3       True\n",
      "4       True\n",
      "       ...  \n",
      "382     True\n",
      "383     True\n",
      "384     True\n",
      "385     True\n",
      "386     True\n",
      "Name: target, Length: 387, dtype: bool\n",
      "\n",
      "Duplicate Values in date column: \n",
      "0      False\n",
      "1       True\n",
      "2       True\n",
      "3       True\n",
      "4       True\n",
      "       ...  \n",
      "382     True\n",
      "383     True\n",
      "384     True\n",
      "385     True\n",
      "386     True\n",
      "Name: date, Length: 387, dtype: bool\n",
      "\n",
      "Duplicate Values in rates column: \n",
      "0      False\n",
      "1      False\n",
      "2      False\n",
      "3      False\n",
      "4      False\n",
      "       ...  \n",
      "382    False\n",
      "383    False\n",
      "384     True\n",
      "385    False\n",
      "386    False\n",
      "Name: rates, Length: 387, dtype: bool\n"
     ]
    }
   ],
   "source": [
    "#2023\n",
    "#column where we want to check for duplicate values\n",
    "column1 = 'Currency' \n",
    "column2 = 'target'\n",
    "column3 = 'date'\n",
    "column4 = 'rates'\n",
    "\n",
    "#duplicate values in specified column:\n",
    "duplicate_values1 = d7[column1].duplicated()\n",
    "duplicate_values2 = d7[column2].duplicated()\n",
    "duplicate_values3 = d7[column3].duplicated()\n",
    "duplicate_values4 = d7[column4].duplicated()\n",
    "\n",
    "\n",
    "# Display the duplicate values in the specified column\n",
    "print(\"Duplicate Values in Currency column: \")\n",
    "print(duplicate_values1)\n",
    "\n",
    "print(\"\\nDuplicate Values in target Column: \")\n",
    "print(duplicate_values2)\n",
    "\n",
    "print(\"\\nDuplicate Values in date column: \")\n",
    "print(duplicate_values3)\n",
    "\n",
    "print(\"\\nDuplicate Values in rates column: \")\n",
    "print(duplicate_values4)\n"
   ]
  },
  {
   "cell_type": "markdown",
   "id": "28580cde",
   "metadata": {},
   "source": [
    "Again, the same reasoning. It wouldnt be a smart idea to take out the date in my opinion as we can use it to access values later on in the analysis.\n",
    "\n",
    "\n",
    "\n",
    "\n",
    "\n",
    "\n",
    "Just for an idea, I'll check the length of the data to see how much coins I am dealing with each year. This will give me valuable insights:"
   ]
  },
  {
   "cell_type": "code",
   "execution_count": 168,
   "id": "f0b2616b",
   "metadata": {},
   "outputs": [
    {
     "name": "stdout",
     "output_type": "stream",
     "text": [
      "Length of 2011 DataFrame: 1\n",
      "Length of 2012 DataFrame: 1\n",
      "Length of 2013 DataFrame: 1\n",
      "Length of 2016 DataFrame: 10\n",
      "Length of 2018 DataFrame: 386\n",
      "Length of 2021 DataFrame: 387\n",
      "Length of 2023 DataFrame: 387\n"
     ]
    }
   ],
   "source": [
    "length1 = len(d1)\n",
    "length2 = len(d2)\n",
    "length3 = len(d3)\n",
    "length4 = len(d4)\n",
    "length5 = len(d5)\n",
    "length6 = len(d6)\n",
    "length7 = len(d7)\n",
    "\n",
    "\n",
    "print(\"Length of 2011 DataFrame:\", length1)\n",
    "print(\"Length of 2012 DataFrame:\", length2)\n",
    "print(\"Length of 2013 DataFrame:\", length3)\n",
    "print(\"Length of 2016 DataFrame:\", length4)\n",
    "print(\"Length of 2018 DataFrame:\", length5)\n",
    "print(\"Length of 2021 DataFrame:\", length6)\n",
    "print(\"Length of 2023 DataFrame:\", length7)"
   ]
  },
  {
   "cell_type": "markdown",
   "id": "f336471e",
   "metadata": {},
   "source": [
    "As we can observe, more cryptocurrencies were made over time. Bitcoin is the most expensive one. My inference for this would be that bitcoin was the first known cryptocurrency, as well as being the most well-known.It has attracted much more investors and is usually a much safer option than the other currencies.(can count this as part of the analysis of data)\n",
    "\n",
    "\n",
    "\n",
    "\n",
    "\n",
    "In my final step of Data Pre-processing, I will be merging all the csv files into one:"
   ]
  },
  {
   "cell_type": "code",
   "execution_count": 224,
   "id": "13a677b3",
   "metadata": {},
   "outputs": [
    {
     "name": "stdout",
     "output_type": "stream",
     "text": [
      "     Currency target        date       rates\n",
      "0         BTC    USD  2011-04-20    1.140000\n",
      "1         BTC    USD  2012-04-20    5.350000\n",
      "2         BTC    USD  2013-04-20  126.620000\n",
      "3         BTC    USD  2016-04-20  441.160000\n",
      "4        DASH    USD  2016-04-20    6.200000\n",
      "...       ...    ...         ...         ...\n",
      "1168      ZEN    USD  2023-04-20    9.877605\n",
      "1169      ZIL    USD  2023-04-20    0.030230\n",
      "1170      ZNY    USD  2023-04-20    0.020000\n",
      "1171      ZRX    USD  2023-04-20    0.266965\n",
      "1172      ZSC    USD  2023-04-20    0.000066\n",
      "\n",
      "[1173 rows x 4 columns]\n"
     ]
    }
   ],
   "source": [
    "# Create an empty DataFrame to store the merged data\n",
    "mergedDF =  pd.concat([d1,d2,d3,d4,d5,d6,d7], ignore_index=True)\n",
    "print(mergedDF)\n",
    "\n",
    "mergedDF.to_csv('finalData.csv', index=False)\n"
   ]
  },
  {
   "cell_type": "code",
   "execution_count": 192,
   "id": "4f45d8dd",
   "metadata": {
    "scrolled": true
   },
   "outputs": [
    {
     "data": {
      "text/html": [
       "<div>\n",
       "<style scoped>\n",
       "    .dataframe tbody tr th:only-of-type {\n",
       "        vertical-align: middle;\n",
       "    }\n",
       "\n",
       "    .dataframe tbody tr th {\n",
       "        vertical-align: top;\n",
       "    }\n",
       "\n",
       "    .dataframe thead th {\n",
       "        text-align: right;\n",
       "    }\n",
       "</style>\n",
       "<table border=\"1\" class=\"dataframe\">\n",
       "  <thead>\n",
       "    <tr style=\"text-align: right;\">\n",
       "      <th></th>\n",
       "      <th>Currency</th>\n",
       "      <th>target</th>\n",
       "      <th>date</th>\n",
       "      <th>rates</th>\n",
       "    </tr>\n",
       "  </thead>\n",
       "  <tbody>\n",
       "    <tr>\n",
       "      <th>0</th>\n",
       "      <td>BTC</td>\n",
       "      <td>USD</td>\n",
       "      <td>2011-04-20</td>\n",
       "      <td>1.140000</td>\n",
       "    </tr>\n",
       "    <tr>\n",
       "      <th>1</th>\n",
       "      <td>BTC</td>\n",
       "      <td>USD</td>\n",
       "      <td>2012-04-20</td>\n",
       "      <td>5.350000</td>\n",
       "    </tr>\n",
       "    <tr>\n",
       "      <th>2</th>\n",
       "      <td>BTC</td>\n",
       "      <td>USD</td>\n",
       "      <td>2013-04-20</td>\n",
       "      <td>126.620000</td>\n",
       "    </tr>\n",
       "    <tr>\n",
       "      <th>3</th>\n",
       "      <td>BTC</td>\n",
       "      <td>USD</td>\n",
       "      <td>2016-04-20</td>\n",
       "      <td>441.160000</td>\n",
       "    </tr>\n",
       "    <tr>\n",
       "      <th>4</th>\n",
       "      <td>DASH</td>\n",
       "      <td>USD</td>\n",
       "      <td>2016-04-20</td>\n",
       "      <td>6.200000</td>\n",
       "    </tr>\n",
       "    <tr>\n",
       "      <th>...</th>\n",
       "      <td>...</td>\n",
       "      <td>...</td>\n",
       "      <td>...</td>\n",
       "      <td>...</td>\n",
       "    </tr>\n",
       "    <tr>\n",
       "      <th>1168</th>\n",
       "      <td>ZEN</td>\n",
       "      <td>USD</td>\n",
       "      <td>2023-04-20</td>\n",
       "      <td>9.877605</td>\n",
       "    </tr>\n",
       "    <tr>\n",
       "      <th>1169</th>\n",
       "      <td>ZIL</td>\n",
       "      <td>USD</td>\n",
       "      <td>2023-04-20</td>\n",
       "      <td>0.030230</td>\n",
       "    </tr>\n",
       "    <tr>\n",
       "      <th>1170</th>\n",
       "      <td>ZNY</td>\n",
       "      <td>USD</td>\n",
       "      <td>2023-04-20</td>\n",
       "      <td>0.020000</td>\n",
       "    </tr>\n",
       "    <tr>\n",
       "      <th>1171</th>\n",
       "      <td>ZRX</td>\n",
       "      <td>USD</td>\n",
       "      <td>2023-04-20</td>\n",
       "      <td>0.266965</td>\n",
       "    </tr>\n",
       "    <tr>\n",
       "      <th>1172</th>\n",
       "      <td>ZSC</td>\n",
       "      <td>USD</td>\n",
       "      <td>2023-04-20</td>\n",
       "      <td>0.000066</td>\n",
       "    </tr>\n",
       "  </tbody>\n",
       "</table>\n",
       "<p>1173 rows × 4 columns</p>\n",
       "</div>"
      ],
      "text/plain": [
       "     Currency target        date       rates\n",
       "0         BTC    USD  2011-04-20    1.140000\n",
       "1         BTC    USD  2012-04-20    5.350000\n",
       "2         BTC    USD  2013-04-20  126.620000\n",
       "3         BTC    USD  2016-04-20  441.160000\n",
       "4        DASH    USD  2016-04-20    6.200000\n",
       "...       ...    ...         ...         ...\n",
       "1168      ZEN    USD  2023-04-20    9.877605\n",
       "1169      ZIL    USD  2023-04-20    0.030230\n",
       "1170      ZNY    USD  2023-04-20    0.020000\n",
       "1171      ZRX    USD  2023-04-20    0.266965\n",
       "1172      ZSC    USD  2023-04-20    0.000066\n",
       "\n",
       "[1173 rows x 4 columns]"
      ]
     },
     "execution_count": 192,
     "metadata": {},
     "output_type": "execute_result"
    }
   ],
   "source": [
    "mergedDF"
   ]
  },
  {
   "cell_type": "markdown",
   "id": "39737044",
   "metadata": {},
   "source": [
    "Now, its finally time for the juicy stuff, the analysis of the data. I will be analysing a few things:\n",
    "\n",
    "1) Bitcoin's progression through the years\n",
    "2) Comparing the top 3 coins in 2016 and through to 2023.\n",
    "3) I'll be comparing BitCoin and one alt coin\n",
    "\n",
    "\n",
    "\n",
    "\n",
    "Firstly, i'll start off with analysing bitcoin's progression:\n"
   ]
  },
  {
   "cell_type": "code",
   "execution_count": 209,
   "id": "acb3098d",
   "metadata": {},
   "outputs": [
    {
     "data": {
      "image/png": "[encoded data removed]",
      "text/plain": [
       "<Figure size 1200x600 with 1 Axes>"
      ]
     },
     "metadata": {},
     "output_type": "display_data"
    }
   ],
   "source": [
    "bitcoinRate = mergedDF[mergedDF['Currency'] == 'BTC']\n",
    "bitcoinRate.loc[:, 'date'] = pd.to_datetime(bitcoinRate['date'])\n",
    "bitcoinRate = bitcoinRate.sort_values(by='date') #we filtered the df to collect data for BTC, now we want to sort it from earliest to lates in terms of date\n",
    "\n",
    "#making line plot\n",
    "plt.figure(figsize=(12, 6))\n",
    "plt.plot(bitcoin_data['date'], bitcoin_data['rates'], marker='o', linestyle='-')\n",
    "plt.title('Bitcoin (BTC) Exchange Rate Over Time')\n",
    "plt.xlabel('Date')\n",
    "plt.ylabel('Exchange Rate (USD)')\n",
    "plt.grid(True)\n",
    "plt.show()\n"
   ]
  },
  {
   "cell_type": "markdown",
   "id": "35e9f004",
   "metadata": {},
   "source": [
    "The line plot portrays an interesting but pretty generic journey of a cryptocurrency. We observe that the price of bitcoin really boomed from 2016 onwards. This could happen due to many reasons. Technological advancements for bitcoin ensured that the demand for bitcoin would skyrocket, leading the price to be higher. It could also be due to inflation, as well as the psychology of a person in the market, meaning people could just be greedy and gamble on it. \n",
    "\n",
    "\n",
    "We see that from 2021 onwards to 2023 it has decreased. One main reason for this could be COVID, the global pandemic. One other important factor to note about bitcoin is that its supply is capped, meaning that there's periods where the rate at which bitcoins are produced is decreased.\n",
    "\n",
    "\n",
    "Now I will be doing the second part of my analysis, where I take the top 3 priced coins in 2016, and then compare their progression to 2023:"
   ]
  },
  {
   "cell_type": "code",
   "execution_count": 210,
   "id": "1be17876",
   "metadata": {},
   "outputs": [
    {
     "data": {
      "image/png": "[encoded data removed]",
      "text/plain": [
       "<Figure size 1200x600 with 1 Axes>"
      ]
     },
     "metadata": {},
     "output_type": "display_data"
    }
   ],
   "source": [
    "mergedDF['date'] = pd.to_datetime(mergedDF['date'])  \n",
    "data16 = mergedDF[mergedDF['date'].dt.year == 2016]\n",
    "\n",
    "top3 = data16.groupby('Currency')['rates'].last().nlargest(3).index\n",
    "\n",
    "subsetData = mergedDF[mergedDF['Currency'].isin(top3)]\n",
    "\n",
    "pivotData = subsetData.pivot(index='date', columns='Currency', values='rates') #pivot data to make it suitable to visualise\n",
    "\n",
    "#plot \n",
    "plt.figure(figsize=(12, 6))\n",
    "for coin in top_3_coins_2016:\n",
    "    plt.plot(pivotData.index, pivotData[coin], label=coin)\n",
    "\n",
    "plt.title('The progression of the top 3 highest priced coins in 2016 to 2023')\n",
    "plt.xlabel('Year')\n",
    "plt.ylabel('Price (USD)')\n",
    "plt.legend()\n",
    "plt.grid(True)\n",
    "plt.show()\n"
   ]
  },
  {
   "cell_type": "markdown",
   "id": "127396a2",
   "metadata": {},
   "source": [
    "After analysing these three coins' progression, I can observe that neither Etherium or Dash were in demand like bitcoin was. They took a small amount of time to establish themselves and even then they couldnt do it to the high standard that bitcoin did. They could not establish any security or demand in the market. \n",
    "\n",
    "\n",
    "\n",
    "Now, I will finally be comparing bitcoin and an alt coin through the years. For the alt coin, I used DOGE. The reason I picked DOGE is because a while back I was hearing alot about it being a good investment. I hope that after analysing it I'll be able to make a judgement whether it is or not. I will be using a scatter plot this time:"
   ]
  },
  {
   "cell_type": "code",
   "execution_count": 221,
   "id": "84f48749",
   "metadata": {},
   "outputs": [
    {
     "data": {
      "image/png": "[encoded data removed]",
      "text/plain": [
       "<Figure size 1200x600 with 1 Axes>"
      ]
     },
     "metadata": {},
     "output_type": "display_data"
    }
   ],
   "source": [
    "# Filter data for Bitcoin and doge\n",
    "bitcoinData = mergedDF[mergedDF['Currency'] == 'BTC']\n",
    "dogecoinData = mergedDF[mergedDF['Currency'] == 'DOGE']\n",
    "\n",
    "plt.figure(figsize=(12, 6))\n",
    "\n",
    "plt.scatter(bitcoinData['date'], bitcoinData['rates'], label='Bitcoin', color='orange')\n",
    "plt.scatter(dogecoinData['date'], dogecoinData['rates'], label='Doge', color='blue')\n",
    "\n",
    "plt.xlabel('Year')\n",
    "plt.ylabel('Rates')\n",
    "plt.title('Bitcoin vs Dogecoin Rates Over the Years')\n",
    "plt.legend()\n",
    "\n",
    "plt.xticks(rotation=45)\n",
    "plt.grid(True)\n",
    "\n",
    "plt.show()"
   ]
  },
  {
   "cell_type": "markdown",
   "id": "65f973eb",
   "metadata": {},
   "source": [
    "From the scatter plot we can observe that the price of doge was pretty much the same as compared to the fluctuating price of bitcoin. Even though in 2016 they both had a relatively close rate, we can see that bitcoin's years of being in the market can lead to customers having more security and trust in bitcoin. With regards to my previous doubt/question about dogecoin being a suitable investment, I think that it's more obvious that someone with more financial prowess can invest in bitcoin and still get  good return, not to say that dogecoin cannot have a dramatic increase like bitcoin did."
   ]
  },
  {
   "cell_type": "markdown",
   "id": "7bc341cd",
   "metadata": {},
   "source": [
    "# Task 3: Conclusions/Remarks"
   ]
  },
  {
   "cell_type": "markdown",
   "id": "ae72ff57",
   "metadata": {},
   "source": [
    "Challenges in collecting data: I was really confused at the beginning with the instructions given in the API. It wasnt really clear with regards to how we had to use an access key, date and the url and how to actually request data. It took a bit of time to figure out but once that was done, it was easy to request data multiple times.\n",
    "\n",
    "Key Insights: I learned alot from my analysis of this data. The main things I learned was how a coin that was made earlier than the others can have a competitive advantage in the market due to its security,scalibility, technology/innovation, and its brand recognition. The perfect example of this is bitcoin. My analysis proved to be quite useful on a personal level as it cleared doubts that I had in my normal daily life about some coins.\n",
    "\n",
    "Ideas: I would really love to see some predictions being done on the bigger coins like bitcoin,ethereum,doge, and dash. I think that such a project would really benefit investors and provide alot of insights. "
   ]
  }
 ],
 "metadata": {
  "kernelspec": {
   "display_name": "Python 3 (ipykernel)",
   "language": "python",
   "name": "python3"
  },
  "language_info": {
   "codemirror_mode": {
    "name": "ipython",
    "version": 3
   },
   "file_extension": ".py",
   "mimetype": "text/x-python",
   "name": "python",
   "nbconvert_exporter": "python",
   "pygments_lexer": "ipython3",
   "version": "3.11.5"
  }
 },
 "nbformat": 4,
 "nbformat_minor": 5
}
